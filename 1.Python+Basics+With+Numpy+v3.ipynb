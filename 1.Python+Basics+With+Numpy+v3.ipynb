{
 "cells": [
  {
   "cell_type": "markdown",
   "metadata": {},
   "source": [
    "# Python Basics with Numpy (optional assignment)\n",
    "\n",
    "Welcome to your first assignment. This exercise gives you a brief introduction to Python. Even if you've used Python before, this will help familiarize you with functions we'll need.  \n",
    "\n",
    "**Instructions:**\n",
    "- You will be using Python 3.\n",
    "- Avoid using for-loops and while-loops, unless you are explicitly told to do so.\n",
    "- Do not modify the (# GRADED FUNCTION [function name]) comment in some cells. Your work would not be graded if you change this. Each cell containing that comment should only contain one function.\n",
    "- After coding your function, run the cell right below it to check if your result is correct.\n",
    "\n",
    "**After this assignment you will:**\n",
    "- Be able to use iPython Notebooks\n",
    "- Be able to use numpy functions and numpy matrix/vector operations\n",
    "- Understand the concept of \"broadcasting\"\n",
    "- Be able to vectorize code\n",
    "\n",
    "Let's get started!"
   ]
  },
  {
   "cell_type": "markdown",
   "metadata": {},
   "source": [
    "## About iPython Notebooks ##\n",
    "\n",
    "iPython Notebooks are interactive coding environments embedded in a webpage. You will be using iPython notebooks in this class. You only need to write code between the ### START CODE HERE ### and ### END CODE HERE ### comments. After writing your code, you can run the cell by either pressing \"SHIFT\"+\"ENTER\" or by clicking on \"Run Cell\" (denoted by a play symbol) in the upper bar of the notebook. \n",
    "\n",
    "We will often specify \"(≈ X lines of code)\" in the comments to tell you about how much code you need to write. It is just a rough estimate, so don't feel bad if your code is longer or shorter.\n",
    "\n",
    "**Exercise**: Set test to `\"Hello World\"` in the cell below to print \"Hello World\" and run the two cells below."
   ]
  },
  {
   "cell_type": "code",
   "execution_count": 4,
   "metadata": {},
   "outputs": [],
   "source": [
    "### START CODE HERE ### (≈ 1 line of code)\n",
    "test = \"Hello World\"\n",
    "### END CODE HERE ###"
   ]
  },
  {
   "cell_type": "code",
   "execution_count": 5,
   "metadata": {},
   "outputs": [
    {
     "name": "stdout",
     "output_type": "stream",
     "text": [
      "test: Hello World\n"
     ]
    }
   ],
   "source": [
    "print (\"test:\", test)"
   ]
  },
  {
   "cell_type": "markdown",
   "metadata": {},
   "source": [
    "**Expected output**:\n",
    "test: Hello World"
   ]
  },
  {
   "cell_type": "markdown",
   "metadata": {},
   "source": [
    "<font color='blue'>\n",
    "**What you need to remember**:\n",
    "- Run your cells using SHIFT+ENTER (or \"Run cell\")\n",
    "- Write code in the designated areas using Python 3 only\n",
    "- Do not modify the code outside of the designated areas"
   ]
  },
  {
   "cell_type": "markdown",
   "metadata": {},
   "source": [
    "## 1 - Building basic functions with numpy ##\n",
    "\n",
    "Numpy is the main package for scientific computing in Python. It is maintained by a large community (www.numpy.org). In this exercise you will learn several key numpy functions such as np.exp, np.log, and np.reshape. You will need to know how to use these functions for future assignments.\n",
    "\n",
    "### 1.1 - sigmoid function, np.exp() ###\n",
    "\n",
    "Before using np.exp(), you will use math.exp() to implement the sigmoid function. You will then see why np.exp() is preferable to math.exp().\n",
    "\n",
    "**Exercise**: Build a function that returns the sigmoid of a real number x. Use math.exp(x) for the exponential function.\n",
    "\n",
    "**Reminder**:\n",
    "$sigmoid(x) = \\frac{1}{1+e^{-x}}$ is sometimes also known as the logistic function. It is a non-linear function used not only in Machine Learning (Logistic Regression), but also in Deep Learning.\n",
    "\n",
    "<img src=\"images/Sigmoid.png\" style=\"width:500px;height:228px;\">\n",
    "\n",
    "To refer to a function belonging to a specific package you could call it using package_name.function(). Run the code below to see an example with math.exp()."
   ]
  },
  {
   "cell_type": "code",
   "execution_count": 5,
   "metadata": {},
   "outputs": [],
   "source": [
    "# GRADED FUNCTION: basic_sigmoid\n",
    "\n",
    "import math\n",
    "\n",
    "def basic_sigmoid(x):\n",
    "    \"\"\"\n",
    "    Compute sigmoid of x.\n",
    "\n",
    "    Arguments:\n",
    "    x -- A scalar\n",
    "\n",
    "    Return:\n",
    "    s -- sigmoid(x)\n",
    "    \"\"\"\n",
    "    \n",
    "    ### START CODE HERE ### (≈ 1 line of code)\n",
    "    s = 1 / (1 + math.exp(-x))\n",
    "    ### END CODE HERE ###\n",
    "    \n",
    "    return s"
   ]
  },
  {
   "cell_type": "code",
   "execution_count": 6,
   "metadata": {},
   "outputs": [
    {
     "data": {
      "text/plain": [
       "0.9525741268224334"
      ]
     },
     "execution_count": 6,
     "metadata": {},
     "output_type": "execute_result"
    }
   ],
   "source": [
    "basic_sigmoid(3)"
   ]
  },
  {
   "cell_type": "markdown",
   "metadata": {},
   "source": [
    "**Expected Output**: \n",
    "<table style = \"width:40%\">\n",
    "    <tr>\n",
    "    <td>** basic_sigmoid(3) **</td> \n",
    "        <td>0.9525741268224334 </td> \n",
    "    </tr>\n",
    "\n",
    "</table>"
   ]
  },
  {
   "cell_type": "markdown",
   "metadata": {},
   "source": [
    "Actually, we rarely use the \"math\" library in deep learning because the inputs of the functions are real numbers. In deep learning we mostly use matrices and vectors. This is why numpy is more useful. "
   ]
  },
  {
   "cell_type": "code",
   "execution_count": 7,
   "metadata": {},
   "outputs": [
    {
     "ename": "TypeError",
     "evalue": "bad operand type for unary -: 'list'",
     "output_type": "error",
     "traceback": [
      "\u001b[1;31m---------------------------------------------------------------------------\u001b[0m",
      "\u001b[1;31mTypeError\u001b[0m                                 Traceback (most recent call last)",
      "Input \u001b[1;32mIn [7]\u001b[0m, in \u001b[0;36m<cell line: 3>\u001b[1;34m()\u001b[0m\n\u001b[0;32m      1\u001b[0m \u001b[38;5;66;03m### One reason why we use \"numpy\" instead of \"math\" in Deep Learning ###\u001b[39;00m\n\u001b[0;32m      2\u001b[0m x \u001b[38;5;241m=\u001b[39m [\u001b[38;5;241m1\u001b[39m, \u001b[38;5;241m2\u001b[39m, \u001b[38;5;241m3\u001b[39m]\n\u001b[1;32m----> 3\u001b[0m \u001b[43mbasic_sigmoid\u001b[49m\u001b[43m(\u001b[49m\u001b[43mx\u001b[49m\u001b[43m)\u001b[49m\n",
      "Input \u001b[1;32mIn [5]\u001b[0m, in \u001b[0;36mbasic_sigmoid\u001b[1;34m(x)\u001b[0m\n\u001b[0;32m      6\u001b[0m \u001b[38;5;124;03m\"\"\"\u001b[39;00m\n\u001b[0;32m      7\u001b[0m \u001b[38;5;124;03mCompute sigmoid of x.\u001b[39;00m\n\u001b[0;32m      8\u001b[0m \n\u001b[1;32m   (...)\u001b[0m\n\u001b[0;32m     13\u001b[0m \u001b[38;5;124;03ms -- sigmoid(x)\u001b[39;00m\n\u001b[0;32m     14\u001b[0m \u001b[38;5;124;03m\"\"\"\u001b[39;00m\n\u001b[0;32m     16\u001b[0m \u001b[38;5;66;03m### START CODE HERE ### (≈ 1 line of code)\u001b[39;00m\n\u001b[1;32m---> 17\u001b[0m s \u001b[38;5;241m=\u001b[39m \u001b[38;5;241m1\u001b[39m \u001b[38;5;241m/\u001b[39m (\u001b[38;5;241m1\u001b[39m \u001b[38;5;241m+\u001b[39m math\u001b[38;5;241m.\u001b[39mexp(\u001b[38;5;241;43m-\u001b[39;49m\u001b[43mx\u001b[49m))\n\u001b[0;32m     18\u001b[0m \u001b[38;5;66;03m### END CODE HERE ###\u001b[39;00m\n\u001b[0;32m     20\u001b[0m \u001b[38;5;28;01mreturn\u001b[39;00m s\n",
      "\u001b[1;31mTypeError\u001b[0m: bad operand type for unary -: 'list'"
     ]
    }
   ],
   "source": [
    "### One reason why we use \"numpy\" instead of \"math\" in Deep Learning ###\n",
    "x = [1, 2, 3]\n",
    "basic_sigmoid(x) # you will see this give an error when you run it, because x is a vector."
   ]
  },
  {
   "cell_type": "markdown",
   "metadata": {},
   "source": [
    "In fact, if $ x = (x_1, x_2, ..., x_n)$ is a row vector then $np.exp(x)$ will apply the exponential function to every element of x. The output will thus be: $np.exp(x) = (e^{x_1}, e^{x_2}, ..., e^{x_n})$"
   ]
  },
  {
   "cell_type": "code",
   "execution_count": 8,
   "metadata": {},
   "outputs": [
    {
     "name": "stdout",
     "output_type": "stream",
     "text": [
      "[ 2.71828183  7.3890561  20.08553692]\n"
     ]
    }
   ],
   "source": [
    "import numpy as np\n",
    "\n",
    "# example of np.exp\n",
    "x = np.array([1, 2, 3])\n",
    "print(np.exp(x)) # result is (exp(1), exp(2), exp(3))"
   ]
  },
  {
   "cell_type": "markdown",
   "metadata": {},
   "source": [
    "Furthermore, if x is a vector, then a Python operation such as $s = x + 3$ or $s = \\frac{1}{x}$ will output s as a vector of the same size as x."
   ]
  },
  {
   "cell_type": "code",
   "execution_count": 9,
   "metadata": {},
   "outputs": [
    {
     "name": "stdout",
     "output_type": "stream",
     "text": [
      "[4 5 6]\n"
     ]
    }
   ],
   "source": [
    "# example of vector operation\n",
    "x = np.array([1, 2, 3])\n",
    "print (x + 3)"
   ]
  },
  {
   "cell_type": "markdown",
   "metadata": {},
   "source": [
    "Any time you need more info on a numpy function, we encourage you to look at [the official documentation](https://docs.scipy.org/doc/numpy-1.10.1/reference/generated/numpy.exp.html). \n",
    "\n",
    "You can also create a new cell in the notebook and write `np.exp?` (for example) to get quick access to the documentation.\n",
    "\n",
    "**Exercise**: Implement the sigmoid function using numpy. \n",
    "\n",
    "**Instructions**: x could now be either a real number, a vector, or a matrix. The data structures we use in numpy to represent these shapes (vectors, matrices...) are called numpy arrays. You don't need to know more for now.\n",
    "$$ \\text{For } x \\in \\mathbb{R}^n \\text{,     } sigmoid(x) = sigmoid\\begin{pmatrix}\n",
    "    x_1  \\\\\n",
    "    x_2  \\\\\n",
    "    ...  \\\\\n",
    "    x_n  \\\\\n",
    "\\end{pmatrix} = \\begin{pmatrix}\n",
    "    \\frac{1}{1+e^{-x_1}}  \\\\\n",
    "    \\frac{1}{1+e^{-x_2}}  \\\\\n",
    "    ...  \\\\\n",
    "    \\frac{1}{1+e^{-x_n}}  \\\\\n",
    "\\end{pmatrix}\\tag{1} $$"
   ]
  },
  {
   "cell_type": "code",
   "execution_count": 10,
   "metadata": {},
   "outputs": [],
   "source": [
    "# GRADED FUNCTION: sigmoid\n",
    "\n",
    "import numpy as np # this means you can access numpy functions by writing np.function() instead of numpy.function()\n",
    "\n",
    "def sigmoid(x):\n",
    "    \"\"\"\n",
    "    Compute the sigmoid of x\n",
    "\n",
    "    Arguments:\n",
    "    x -- A scalar or numpy array of any size\n",
    "\n",
    "    Return:\n",
    "    s -- sigmoid(x)\n",
    "    \"\"\"\n",
    "    \n",
    "    ### START CODE HERE ### (≈ 1 line of code)\n",
    "    s = 1 / (1 + np.exp(-x))\n",
    "    ### END CODE HERE ###\n",
    "    \n",
    "    return s"
   ]
  },
  {
   "cell_type": "code",
   "execution_count": 11,
   "metadata": {},
   "outputs": [
    {
     "data": {
      "text/plain": [
       "array([0.73105858, 0.88079708, 0.95257413])"
      ]
     },
     "execution_count": 11,
     "metadata": {},
     "output_type": "execute_result"
    }
   ],
   "source": [
    "x = np.array([1, 2, 3])\n",
    "sigmoid(x)"
   ]
  },
  {
   "cell_type": "markdown",
   "metadata": {},
   "source": [
    "**Expected Output**: \n",
    "<table>\n",
    "    <tr> \n",
    "        <td> **sigmoid([1,2,3])**</td> \n",
    "        <td> array([ 0.73105858,  0.88079708,  0.95257413]) </td> \n",
    "    </tr>\n",
    "</table> \n"
   ]
  },
  {
   "cell_type": "markdown",
   "metadata": {},
   "source": [
    "### 1.2 - Sigmoid gradient\n",
    "\n",
    "As you've seen in lecture, you will need to compute gradients to optimize loss functions using backpropagation. Let's code your first gradient function.\n",
    "\n",
    "**Exercise**: Implement the function sigmoid_grad() to compute the gradient of the sigmoid function with respect to its input x. The formula is: $$sigmoid\\_derivative(x) = \\sigma'(x) = \\sigma(x) (1 - \\sigma(x))\\tag{2}$$\n",
    "You often code this function in two steps:\n",
    "1. Set s to be the sigmoid of x. You might find your sigmoid(x) function useful.\n",
    "2. Compute $\\sigma'(x) = s(1-s)$"
   ]
  },
  {
   "cell_type": "code",
   "execution_count": 12,
   "metadata": {},
   "outputs": [],
   "source": [
    "# GRADED FUNCTION: sigmoid_derivative\n",
    "\n",
    "def sigmoid_derivative(x):\n",
    "    \"\"\"\n",
    "    Compute the gradient (also called the slope or derivative) of the sigmoid function with respect to its input x.\n",
    "    You can store the output of the sigmoid function into variables and then use it to calculate the gradient.\n",
    "    \n",
    "    Arguments:\n",
    "    x -- A scalar or numpy array\n",
    "\n",
    "    Return:\n",
    "    ds -- Your computed gradient.\n",
    "    \"\"\"\n",
    "    \n",
    "    ### START CODE HERE ### (≈ 2 lines of code)\n",
    "    s = 1 / (1 + np.exp(-x))\n",
    "    ds = s * (1 - s)\n",
    "    ### END CODE HERE ###\n",
    "    \n",
    "    return ds"
   ]
  },
  {
   "cell_type": "code",
   "execution_count": 13,
   "metadata": {},
   "outputs": [
    {
     "name": "stdout",
     "output_type": "stream",
     "text": [
      "sigmoid_derivative(x) = [0.19661193 0.10499359 0.04517666]\n"
     ]
    }
   ],
   "source": [
    "x = np.array([1, 2, 3])\n",
    "print (\"sigmoid_derivative(x) = \" + str(sigmoid_derivative(x)))"
   ]
  },
  {
   "cell_type": "markdown",
   "metadata": {},
   "source": [
    "**Expected Output**: \n",
    "\n",
    "\n",
    "<table>\n",
    "    <tr> \n",
    "        <td> **sigmoid_derivative([1,2,3])**</td> \n",
    "        <td> [ 0.19661193  0.10499359  0.04517666] </td> \n",
    "    </tr>\n",
    "</table> \n",
    "\n"
   ]
  },
  {
   "cell_type": "code",
   "execution_count": 17,
   "metadata": {},
   "outputs": [],
   "source": [
    "a = np.arange(10)"
   ]
  },
  {
   "cell_type": "code",
   "execution_count": 18,
   "metadata": {},
   "outputs": [
    {
     "data": {
      "text/plain": [
       "(10,)"
      ]
     },
     "execution_count": 18,
     "metadata": {},
     "output_type": "execute_result"
    }
   ],
   "source": [
    "a.shape"
   ]
  },
  {
   "cell_type": "code",
   "execution_count": 21,
   "metadata": {},
   "outputs": [
    {
     "data": {
      "text/plain": [
       "array([[0, 1],\n",
       "       [2, 3],\n",
       "       [4, 5],\n",
       "       [6, 7],\n",
       "       [8, 9]])"
      ]
     },
     "execution_count": 21,
     "metadata": {},
     "output_type": "execute_result"
    }
   ],
   "source": [
    "b = a.reshape(-1, 2)\n",
    "b"
   ]
  },
  {
   "cell_type": "code",
   "execution_count": 22,
   "metadata": {},
   "outputs": [
    {
     "data": {
      "text/plain": [
       "(5, 2)"
      ]
     },
     "execution_count": 22,
     "metadata": {},
     "output_type": "execute_result"
    }
   ],
   "source": [
    "b.shape"
   ]
  },
  {
   "cell_type": "code",
   "execution_count": 26,
   "metadata": {},
   "outputs": [
    {
     "data": {
      "text/plain": [
       "array([0, 1, 2, 3, 4, 5, 6, 7, 8, 9])"
      ]
     },
     "execution_count": 26,
     "metadata": {},
     "output_type": "execute_result"
    }
   ],
   "source": [
    "c = b.reshape(10)\n",
    "c"
   ]
  },
  {
   "cell_type": "code",
   "execution_count": 32,
   "metadata": {},
   "outputs": [
    {
     "data": {
      "text/plain": [
       "(10,)"
      ]
     },
     "execution_count": 32,
     "metadata": {},
     "output_type": "execute_result"
    }
   ],
   "source": [
    "c.shape"
   ]
  },
  {
   "cell_type": "code",
   "execution_count": 28,
   "metadata": {},
   "outputs": [
    {
     "data": {
      "text/plain": [
       "array([0, 1, 2, 3, 4, 5, 6, 7, 8, 9])"
      ]
     },
     "execution_count": 28,
     "metadata": {},
     "output_type": "execute_result"
    }
   ],
   "source": [
    "b.flatten()"
   ]
  },
  {
   "cell_type": "code",
   "execution_count": 33,
   "metadata": {},
   "outputs": [
    {
     "data": {
      "text/plain": [
       "array([[0, 1, 2, 3, 4, 5, 6, 7, 8, 9]])"
      ]
     },
     "execution_count": 33,
     "metadata": {},
     "output_type": "execute_result"
    }
   ],
   "source": [
    "d = b.reshape(1, 10)\n",
    "d"
   ]
  },
  {
   "cell_type": "code",
   "execution_count": 34,
   "metadata": {},
   "outputs": [
    {
     "data": {
      "text/plain": [
       "(1, 10)"
      ]
     },
     "execution_count": 34,
     "metadata": {},
     "output_type": "execute_result"
    }
   ],
   "source": [
    "d.shape"
   ]
  },
  {
   "cell_type": "code",
   "execution_count": 35,
   "metadata": {},
   "outputs": [
    {
     "data": {
      "text/plain": [
       "array([[0],\n",
       "       [1],\n",
       "       [2],\n",
       "       [3],\n",
       "       [4],\n",
       "       [5],\n",
       "       [6],\n",
       "       [7],\n",
       "       [8],\n",
       "       [9]])"
      ]
     },
     "execution_count": 35,
     "metadata": {},
     "output_type": "execute_result"
    }
   ],
   "source": [
    "b.reshape(10, 1)\n"
   ]
  },
  {
   "cell_type": "markdown",
   "metadata": {},
   "source": [
    "### 1.3 - Reshaping arrays ###\n",
    "\n",
    "Two common numpy functions used in deep learning are [np.shape](https://docs.scipy.org/doc/numpy/reference/generated/numpy.ndarray.shape.html) and [np.reshape()](https://docs.scipy.org/doc/numpy/reference/generated/numpy.reshape.html). \n",
    "- X.shape is used to get the shape (dimension) of a matrix/vector X. \n",
    "- X.reshape(...) is used to reshape X into some other dimension. \n",
    "\n",
    "For example, in computer science, an image is represented by a 3D array of shape $(length, height, depth = 3)$. However, when you read an image as the input of an algorithm you convert it to a vector of shape $(length*height*3, 1)$. In other words, you \"unroll\", or reshape, the 3D array into a 1D vector.\n",
    "\n",
    "<img src=\"images/image2vector_kiank.png\" style=\"width:500px;height:300;\">\n",
    "\n",
    "**Exercise**: Implement `image2vector()` that takes an input of shape (length, height, 3) and returns a vector of shape (length\\*height\\*3, 1). For example, if you would like to reshape an array v of shape (a, b, c) into a vector of shape (a*b,c) you would do:\n",
    "``` python\n",
    "v = v.reshape((v.shape[0]*v.shape[1], v.shape[2])) # v.shape[0] = a ; v.shape[1] = b ; v.shape[2] = c\n",
    "```\n",
    "- Please don't hardcode the dimensions of image as a constant. Instead look up the quantities you need with `image.shape[0]`, etc. "
   ]
  },
  {
   "cell_type": "code",
   "execution_count": 36,
   "metadata": {},
   "outputs": [],
   "source": [
    "# GRADED FUNCTION: image2vector\n",
    "def image2vector(image):\n",
    "    \"\"\"\n",
    "    Argument:\n",
    "    image -- a numpy array of shape (length, height, depth)\n",
    "    \n",
    "    Returns:\n",
    "    v -- a vector of shape (length*height*depth, 1)\n",
    "    \"\"\"\n",
    "    \n",
    "    ### START CODE HERE ### (≈ 1 line of code)\n",
    "    v = image.reshape(image.shape[0]*image.shape[1]*image.shape[2], 1)\n",
    "    ### END CODE HERE ###\n",
    "    \n",
    "    return v"
   ]
  },
  {
   "cell_type": "code",
   "execution_count": 37,
   "metadata": {},
   "outputs": [
    {
     "name": "stdout",
     "output_type": "stream",
     "text": [
      "image2vector(image) = [[0.67826139]\n",
      " [0.29380381]\n",
      " [0.90714982]\n",
      " [0.52835647]\n",
      " [0.4215251 ]\n",
      " [0.45017551]\n",
      " [0.92814219]\n",
      " [0.96677647]\n",
      " [0.85304703]\n",
      " [0.52351845]\n",
      " [0.19981397]\n",
      " [0.27417313]\n",
      " [0.60659855]\n",
      " [0.00533165]\n",
      " [0.10820313]\n",
      " [0.49978937]\n",
      " [0.34144279]\n",
      " [0.94630077]]\n"
     ]
    }
   ],
   "source": [
    "# This is a 3 by 3 by 2 array, typically images will be (num_px_x, num_px_y,3) where 3 represents the RGB values\n",
    "image = np.array([[[ 0.67826139,  0.29380381],\n",
    "        [ 0.90714982,  0.52835647],\n",
    "        [ 0.4215251 ,  0.45017551]],\n",
    "\n",
    "       [[ 0.92814219,  0.96677647],\n",
    "        [ 0.85304703,  0.52351845],\n",
    "        [ 0.19981397,  0.27417313]],\n",
    "\n",
    "       [[ 0.60659855,  0.00533165],\n",
    "        [ 0.10820313,  0.49978937],\n",
    "        [ 0.34144279,  0.94630077]]])\n",
    "\n",
    "print (\"image2vector(image) = \" + str(image2vector(image)))"
   ]
  },
  {
   "cell_type": "markdown",
   "metadata": {},
   "source": [
    "**Expected Output**: \n",
    "\n",
    "\n",
    "<table style=\"width:100%\">\n",
    "     <tr> \n",
    "       <td> **image2vector(image)** </td> \n",
    "       <td> [[ 0.67826139]\n",
    " [ 0.29380381]\n",
    " [ 0.90714982]\n",
    " [ 0.52835647]\n",
    " [ 0.4215251 ]\n",
    " [ 0.45017551]\n",
    " [ 0.92814219]\n",
    " [ 0.96677647]\n",
    " [ 0.85304703]\n",
    " [ 0.52351845]\n",
    " [ 0.19981397]\n",
    " [ 0.27417313]\n",
    " [ 0.60659855]\n",
    " [ 0.00533165]\n",
    " [ 0.10820313]\n",
    " [ 0.49978937]\n",
    " [ 0.34144279]\n",
    " [ 0.94630077]]</td> \n",
    "     </tr>\n",
    "    \n",
    "   \n",
    "</table>"
   ]
  },
  {
   "cell_type": "code",
   "execution_count": 38,
   "metadata": {},
   "outputs": [],
   "source": [
    "?np.linalg.norm"
   ]
  },
  {
   "cell_type": "code",
   "execution_count": 41,
   "metadata": {},
   "outputs": [
    {
     "data": {
      "text/plain": [
       "array([[ 0,  1,  2,  3,  4,  5],\n",
       "       [ 6,  7,  8,  9, 10, 11],\n",
       "       [12, 13, 14, 15, 16, 17],\n",
       "       [18, 19, 20, 21, 22, 23],\n",
       "       [24, 25, 26, 27, 28, 29],\n",
       "       [30, 31, 32, 33, 34, 35],\n",
       "       [36, 37, 38, 39, 40, 41],\n",
       "       [42, 43, 44, 45, 46, 47],\n",
       "       [48, 49, 50, 51, 52, 53]])"
      ]
     },
     "execution_count": 41,
     "metadata": {},
     "output_type": "execute_result"
    }
   ],
   "source": [
    "a = np.arange(54).reshape(9, 6)\n",
    "a"
   ]
  },
  {
   "cell_type": "code",
   "execution_count": 46,
   "metadata": {},
   "outputs": [
    {
     "data": {
      "text/plain": [
       "array([[216, 225, 234, 243, 252, 261]])"
      ]
     },
     "execution_count": 46,
     "metadata": {},
     "output_type": "execute_result"
    }
   ],
   "source": [
    "a.sum(axis = 0, keepdims = True)"
   ]
  },
  {
   "cell_type": "code",
   "execution_count": 44,
   "metadata": {},
   "outputs": [
    {
     "data": {
      "text/plain": [
       "array([216, 225, 234, 243, 252, 261])"
      ]
     },
     "execution_count": 44,
     "metadata": {},
     "output_type": "execute_result"
    }
   ],
   "source": [
    "a.sum(axis = 0)"
   ]
  },
  {
   "cell_type": "markdown",
   "metadata": {},
   "source": [
    "### 1.4 - Normalizing rows\n",
    "\n",
    "Another common technique we use in Machine Learning and Deep Learning is to normalize our data. It often leads to a better performance because gradient descent converges faster after normalization. Here, by normalization we mean changing x to $ \\frac{x}{\\| x\\|} $ (dividing each row vector of x by its norm).\n",
    "\n",
    "For example, if $$x = \n",
    "\\begin{bmatrix}\n",
    "    0 & 3 & 4 \\\\\n",
    "    2 & 6 & 4 \\\\\n",
    "\\end{bmatrix}\\tag{3}$$ then $$\\| x\\| = np.linalg.norm(x, axis = 1, keepdims = True) = \\begin{bmatrix}\n",
    "    5 \\\\\n",
    "    \\sqrt{56} \\\\\n",
    "\\end{bmatrix}\\tag{4} $$and        $$ x\\_normalized = \\frac{x}{\\| x\\|} = \\begin{bmatrix}\n",
    "    0 & \\frac{3}{5} & \\frac{4}{5} \\\\\n",
    "    \\frac{2}{\\sqrt{56}} & \\frac{6}{\\sqrt{56}} & \\frac{4}{\\sqrt{56}} \\\\\n",
    "\\end{bmatrix}\\tag{5}$$ Note that you can divide matrices of different sizes and it works fine: this is called broadcasting and you're going to learn about it in part 5.\n",
    "\n",
    "\n",
    "**Exercise**: Implement normalizeRows() to normalize the rows of a matrix. After applying this function to an input matrix x, each row of x should be a vector of unit length (meaning length 1)."
   ]
  },
  {
   "cell_type": "code",
   "execution_count": 47,
   "metadata": {},
   "outputs": [],
   "source": [
    "# GRADED FUNCTION: normalizeRows\n",
    "\n",
    "def normalizeRows(x):\n",
    "    \"\"\"\n",
    "    Implement a function that normalizes each row of the matrix x (to have unit length).\n",
    "    \n",
    "    Argument:\n",
    "    x -- A numpy matrix of shape (n, m)\n",
    "    \n",
    "    Returns:\n",
    "    x -- The normalized (by row) numpy matrix. You are allowed to modify x.\n",
    "    \"\"\"\n",
    "    \n",
    "    ### START CODE HERE ### (≈ 2 lines of code)\n",
    "    # Compute x_norm as the norm 2 of x. Use np.linalg.norm(..., ord = 2, axis = ..., keepdims = True)\n",
    "    x_norm = np.linalg.norm(x, axis = 1, keepdims = True)\n",
    "    \n",
    "    # Divide x by its norm.\n",
    "    x = x / x_norm\n",
    "    ### END CODE HERE ###\n",
    "\n",
    "    return x"
   ]
  },
  {
   "cell_type": "code",
   "execution_count": 48,
   "metadata": {},
   "outputs": [
    {
     "name": "stdout",
     "output_type": "stream",
     "text": [
      "normalizeRows(x) = [[0.         0.6        0.8       ]\n",
      " [0.13736056 0.82416338 0.54944226]]\n"
     ]
    }
   ],
   "source": [
    "x = np.array([\n",
    "    [0, 3, 4],\n",
    "    [1, 6, 4]])\n",
    "print(\"normalizeRows(x) = \" + str(normalizeRows(x)))"
   ]
  },
  {
   "cell_type": "markdown",
   "metadata": {},
   "source": [
    "**Expected Output**: \n",
    "\n",
    "<table style=\"width:60%\">\n",
    "\n",
    "     <tr> \n",
    "       <td> **normalizeRows(x)** </td> \n",
    "       <td> [[ 0.          0.6         0.8       ]\n",
    " [ 0.13736056  0.82416338  0.54944226]]</td> \n",
    "     </tr>\n",
    "    \n",
    "   \n",
    "</table>"
   ]
  },
  {
   "cell_type": "markdown",
   "metadata": {},
   "source": [
    "**Note**:\n",
    "In normalizeRows(), you can try to print the shapes of x_norm and x, and then rerun the assessment. You'll find out that they have different shapes. This is normal given that x_norm takes the norm of each row of x. So x_norm has the same number of rows but only 1 column. So how did it work when you divided x by x_norm? This is called broadcasting and we'll talk about it now! "
   ]
  },
  {
   "cell_type": "markdown",
   "metadata": {},
   "source": [
    "### 1.5 - Broadcasting and the softmax function ####\n",
    "A very important concept to understand in numpy is \"broadcasting\". It is very useful for performing mathematical operations between arrays of different shapes. For the full details on broadcasting, you can read the official [broadcasting documentation](http://docs.scipy.org/doc/numpy/user/basics.broadcasting.html)."
   ]
  },
  {
   "cell_type": "markdown",
   "metadata": {},
   "source": [
    "**Exercise**: Implement a softmax function using numpy. You can think of softmax as a normalizing function used when your algorithm needs to classify two or more classes. You will learn more about softmax in the second course of this specialization.\n",
    "\n",
    "**Instructions**:\n",
    "- $ \\text{for } x \\in \\mathbb{R}^{1\\times n} \\text{,     } softmax(x) = softmax(\\begin{bmatrix}\n",
    "    x_1  &&\n",
    "    x_2 &&\n",
    "    ...  &&\n",
    "    x_n  \n",
    "\\end{bmatrix}) = \\begin{bmatrix}\n",
    "     \\frac{e^{x_1}}{\\sum_{j}e^{x_j}}  &&\n",
    "    \\frac{e^{x_2}}{\\sum_{j}e^{x_j}}  &&\n",
    "    ...  &&\n",
    "    \\frac{e^{x_n}}{\\sum_{j}e^{x_j}} \n",
    "\\end{bmatrix} $ \n",
    "\n",
    "- $\\text{for a matrix } x \\in \\mathbb{R}^{m \\times n} \\text{,  $x_{ij}$ maps to the element in the $i^{th}$ row and $j^{th}$ column of $x$, thus we have: }$  $$softmax(x) = softmax\\begin{bmatrix}\n",
    "    x_{11} & x_{12} & x_{13} & \\dots  & x_{1n} \\\\\n",
    "    x_{21} & x_{22} & x_{23} & \\dots  & x_{2n} \\\\\n",
    "    \\vdots & \\vdots & \\vdots & \\ddots & \\vdots \\\\\n",
    "    x_{m1} & x_{m2} & x_{m3} & \\dots  & x_{mn}\n",
    "\\end{bmatrix} = \\begin{bmatrix}\n",
    "    \\frac{e^{x_{11}}}{\\sum_{j}e^{x_{1j}}} & \\frac{e^{x_{12}}}{\\sum_{j}e^{x_{1j}}} & \\frac{e^{x_{13}}}{\\sum_{j}e^{x_{1j}}} & \\dots  & \\frac{e^{x_{1n}}}{\\sum_{j}e^{x_{1j}}} \\\\\n",
    "    \\frac{e^{x_{21}}}{\\sum_{j}e^{x_{2j}}} & \\frac{e^{x_{22}}}{\\sum_{j}e^{x_{2j}}} & \\frac{e^{x_{23}}}{\\sum_{j}e^{x_{2j}}} & \\dots  & \\frac{e^{x_{2n}}}{\\sum_{j}e^{x_{2j}}} \\\\\n",
    "    \\vdots & \\vdots & \\vdots & \\ddots & \\vdots \\\\\n",
    "    \\frac{e^{x_{m1}}}{\\sum_{j}e^{x_{mj}}} & \\frac{e^{x_{m2}}}{\\sum_{j}e^{x_{mj}}} & \\frac{e^{x_{m3}}}{\\sum_{j}e^{x_{mj}}} & \\dots  & \\frac{e^{x_{mn}}}{\\sum_{j}e^{x_{mj}}}\n",
    "\\end{bmatrix} = \\begin{pmatrix}\n",
    "    softmax\\text{(first row of x)}  \\\\\n",
    "    softmax\\text{(second row of x)} \\\\\n",
    "    ...  \\\\\n",
    "    softmax\\text{(last row of x)} \\\\\n",
    "\\end{pmatrix} $$"
   ]
  },
  {
   "cell_type": "code",
   "execution_count": 6,
   "metadata": {},
   "outputs": [],
   "source": [
    "# GRADED FUNCTION: softmax\n",
    "\n",
    "def softmax(x):\n",
    "    \"\"\"Calculates the softmax for each row of the input x.\n",
    "\n",
    "    Your code should work for a row vector and also for matrices of shape (n, m).\n",
    "\n",
    "    Argument:\n",
    "    x -- A numpy matrix of shape (n,m)\n",
    "\n",
    "    Returns:\n",
    "    s -- A numpy matrix equal to the softmax of x, of shape (n,m)\n",
    "    \"\"\"\n",
    "    \n",
    "    ### START CODE HERE ### (≈ 3 lines of code)\n",
    "    # Apply exp() element-wise to x. Use np.exp(...).\n",
    "    x_exp = np.exp(x)\n",
    "\n",
    "    # Create a vector x_sum that sums each row of x_exp. Use np.sum(..., axis = 1, keepdims = True).\n",
    "    x_sum = np.sum(x_exp, axis = 1, keepdims = True)\n",
    "    \n",
    "    # Compute softmax(x) by dividing x_exp by x_sum. It should automatically use numpy broadcasting.\n",
    "    s = x_exp / x_sum\n",
    "\n",
    "    ### END CODE HERE ###\n",
    "    \n",
    "    return s"
   ]
  },
  {
   "cell_type": "code",
   "execution_count": 8,
   "metadata": {},
   "outputs": [
    {
     "name": "stdout",
     "output_type": "stream",
     "text": [
      "softmax(x) = [[9.80897665e-01 8.94462891e-04 1.79657674e-02 1.21052389e-04\n",
      "  1.21052389e-04]\n",
      " [8.78679856e-01 1.18916387e-01 8.01252314e-04 8.01252314e-04\n",
      "  8.01252314e-04]]\n"
     ]
    }
   ],
   "source": [
    "import numpy as np\n",
    "x = np.array([\n",
    "    [9, 2, 5, 0, 0],\n",
    "    [7, 5, 0, 0 ,0]])\n",
    "print(\"softmax(x) = \" + str(softmax(x)))"
   ]
  },
  {
   "cell_type": "markdown",
   "metadata": {},
   "source": [
    "**Expected Output**:\n",
    "\n",
    "<table style=\"width:60%\">\n",
    "\n",
    "     <tr> \n",
    "       <td> **softmax(x)** </td> \n",
    "       <td> [[  9.80897665e-01   8.94462891e-04   1.79657674e-02   1.21052389e-04\n",
    "    1.21052389e-04]\n",
    " [  8.78679856e-01   1.18916387e-01   8.01252314e-04   8.01252314e-04\n",
    "    8.01252314e-04]]</td> \n",
    "     </tr>\n",
    "</table>\n"
   ]
  },
  {
   "cell_type": "markdown",
   "metadata": {},
   "source": [
    "**Note**:\n",
    "- If you print the shapes of x_exp, x_sum and s above and rerun the assessment cell, you will see that x_sum is of shape (2,1) while x_exp and s are of shape (2,5). **x_exp/x_sum** works due to python broadcasting.\n",
    "\n",
    "Congratulations! You now have a pretty good understanding of python numpy and have implemented a few useful functions that you will be using in deep learning."
   ]
  },
  {
   "cell_type": "markdown",
   "metadata": {},
   "source": [
    "<font color='blue'>\n",
    "**What you need to remember:**\n",
    "- np.exp(x) works for any np.array x and applies the exponential function to every coordinate\n",
    "- the sigmoid function and its gradient\n",
    "- image2vector is commonly used in deep learning\n",
    "- np.reshape is widely used. In the future, you'll see that keeping your matrix/vector dimensions straight will go toward eliminating a lot of bugs. \n",
    "- numpy has efficient built-in functions\n",
    "- broadcasting is extremely useful"
   ]
  },
  {
   "cell_type": "markdown",
   "metadata": {
    "collapsed": true
   },
   "source": [
    "## 2) Vectorization"
   ]
  },
  {
   "cell_type": "markdown",
   "metadata": {},
   "source": [
    "\n",
    "In deep learning, you deal with very large datasets. Hence, a non-computationally-optimal function can become a huge bottleneck in your algorithm and can result in a model that takes ages to run. To make sure that your code is  computationally efficient, you will use vectorization. For example, try to tell the difference between the following implementations of the dot/outer/elementwise product."
   ]
  },
  {
   "cell_type": "code",
   "execution_count": 1,
   "metadata": {},
   "outputs": [
    {
     "name": "stdout",
     "output_type": "stream",
     "text": [
      "dot = 278\n",
      " ----- Computation time = 0.0ms\n",
      "outer = [[81. 18. 18. 81.  0. 81. 18. 45.  0.  0. 81. 18. 45.  0.  0.]\n",
      " [18.  4.  4. 18.  0. 18.  4. 10.  0.  0. 18.  4. 10.  0.  0.]\n",
      " [45. 10. 10. 45.  0. 45. 10. 25.  0.  0. 45. 10. 25.  0.  0.]\n",
      " [ 0.  0.  0.  0.  0.  0.  0.  0.  0.  0.  0.  0.  0.  0.  0.]\n",
      " [ 0.  0.  0.  0.  0.  0.  0.  0.  0.  0.  0.  0.  0.  0.  0.]\n",
      " [63. 14. 14. 63.  0. 63. 14. 35.  0.  0. 63. 14. 35.  0.  0.]\n",
      " [45. 10. 10. 45.  0. 45. 10. 25.  0.  0. 45. 10. 25.  0.  0.]\n",
      " [ 0.  0.  0.  0.  0.  0.  0.  0.  0.  0.  0.  0.  0.  0.  0.]\n",
      " [ 0.  0.  0.  0.  0.  0.  0.  0.  0.  0.  0.  0.  0.  0.  0.]\n",
      " [ 0.  0.  0.  0.  0.  0.  0.  0.  0.  0.  0.  0.  0.  0.  0.]\n",
      " [81. 18. 18. 81.  0. 81. 18. 45.  0.  0. 81. 18. 45.  0.  0.]\n",
      " [18.  4.  4. 18.  0. 18.  4. 10.  0.  0. 18.  4. 10.  0.  0.]\n",
      " [45. 10. 10. 45.  0. 45. 10. 25.  0.  0. 45. 10. 25.  0.  0.]\n",
      " [ 0.  0.  0.  0.  0.  0.  0.  0.  0.  0.  0.  0.  0.  0.  0.]\n",
      " [ 0.  0.  0.  0.  0.  0.  0.  0.  0.  0.  0.  0.  0.  0.  0.]]\n",
      " ----- Computation time = 0.0ms\n",
      "elementwise multiplication = [81.  4. 10.  0.  0. 63. 10.  0.  0.  0. 81.  4. 25.  0.  0.]\n",
      " ----- Computation time = 0.0ms\n",
      "gdot = [19.12562192 22.78337071 14.8151747 ]\n",
      " ----- Computation time = 0.0ms\n"
     ]
    }
   ],
   "source": [
    "import time\n",
    "import numpy as np\n",
    "\n",
    "x1 = [9, 2, 5, 0, 0, 7, 5, 0, 0, 0, 9, 2, 5, 0, 0]\n",
    "x2 = [9, 2, 2, 9, 0, 9, 2, 5, 0, 0, 9, 2, 5, 0, 0]\n",
    "\n",
    "### CLASSIC DOT PRODUCT OF VECTORS IMPLEMENTATION ###\n",
    "tic = time.process_time()\n",
    "dot = 0\n",
    "for i in range(len(x1)):\n",
    "    dot+= x1[i]*x2[i]\n",
    "toc = time.process_time()\n",
    "print (\"dot = \" + str(dot) + \"\\n ----- Computation time = \" + str(1000*(toc - tic)) + \"ms\")\n",
    "\n",
    "### CLASSIC OUTER PRODUCT IMPLEMENTATION ###\n",
    "tic = time.process_time()\n",
    "outer = np.zeros((len(x1),len(x2))) # we create a len(x1)*len(x2) matrix with only zeros\n",
    "for i in range(len(x1)):\n",
    "    for j in range(len(x2)):\n",
    "        outer[i,j] = x1[i]*x2[j]\n",
    "toc = time.process_time()\n",
    "print (\"outer = \" + str(outer) + \"\\n ----- Computation time = \" + str(1000*(toc - tic)) + \"ms\")\n",
    "\n",
    "### CLASSIC ELEMENTWISE IMPLEMENTATION ###\n",
    "tic = time.process_time()\n",
    "mul = np.zeros(len(x1))\n",
    "for i in range(len(x1)):\n",
    "    mul[i] = x1[i]*x2[i]\n",
    "toc = time.process_time()\n",
    "print (\"elementwise multiplication = \" + str(mul) + \"\\n ----- Computation time = \" + str(1000*(toc - tic)) + \"ms\")\n",
    "\n",
    "### CLASSIC GENERAL DOT PRODUCT IMPLEMENTATION ###\n",
    "W = np.random.rand(3,len(x1)) # Random 3*len(x1) numpy array\n",
    "tic = time.process_time()\n",
    "gdot = np.zeros(W.shape[0])\n",
    "for i in range(W.shape[0]):\n",
    "    for j in range(len(x1)):\n",
    "        gdot[i] += W[i,j]*x1[j]\n",
    "toc = time.process_time()\n",
    "print (\"gdot = \" + str(gdot) + \"\\n ----- Computation time = \" + str(1000*(toc - tic)) + \"ms\")"
   ]
  },
  {
   "cell_type": "code",
   "execution_count": 5,
   "metadata": {
    "scrolled": false
   },
   "outputs": [
    {
     "name": "stdout",
     "output_type": "stream",
     "text": [
      "dot = 246.5058506932045\n",
      " ----- Computation time = 0.0ms\n",
      "outer = [[0.02000477 0.06800383 0.04927269 ... 0.03523737 0.01489144 0.02633277]\n",
      " [0.08404416 0.28569804 0.2070047  ... 0.14803941 0.062562   0.11062936]\n",
      " [0.22635551 0.76946839 0.55752419 ... 0.39871343 0.16849775 0.29795721]\n",
      " ...\n",
      " [0.06424938 0.21840807 0.15824923 ... 0.11317194 0.04782687 0.08457301]\n",
      " [0.20010766 0.68024199 0.49287451 ... 0.35247922 0.148959   0.26340654]\n",
      " [0.22466197 0.7637114  0.55335292 ... 0.39573035 0.16723709 0.29572797]]\n",
      " ----- Computation time = 109.375ms\n",
      "elementwise multiplication = [2.00047735e-02 2.85698044e-01 5.57524186e-01 3.74438956e-02\n",
      " 1.37635716e-01 2.69755186e-01 7.06543249e-01 2.55374135e-02\n",
      " 5.54104471e-02 6.33591437e-01 8.71246167e-02 4.26680477e-01\n",
      " 3.72785331e-01 8.56818013e-01 3.02290095e-01 8.38505811e-01\n",
      " 1.75200576e-01 1.76785781e-01 1.98318475e-02 6.53661173e-02\n",
      " 1.71942231e-01 5.24447162e-01 5.88470883e-01 2.69058510e-01\n",
      " 2.11044259e-01 1.30164467e-01 5.85892047e-02 4.01432511e-02\n",
      " 8.62271188e-02 1.04164800e-01 4.34739518e-01 5.32697623e-01\n",
      " 1.14033017e-02 6.81345490e-01 3.12207989e-01 8.82259269e-01\n",
      " 4.09432904e-01 4.58150943e-01 7.46904364e-01 4.19571373e-01\n",
      " 2.99113183e-01 4.77319352e-01 6.76321119e-02 8.43622418e-01\n",
      " 1.05617332e-01 6.86284293e-02 2.15274112e-01 9.99686128e-02\n",
      " 1.50430335e-03 7.78662989e-03 6.91792100e-04 2.95423664e-01\n",
      " 1.45001322e-01 2.46843486e-01 9.34612100e-02 1.92138469e-01\n",
      " 5.24885037e-01 2.27566215e-01 2.87149749e-01 6.18401531e-02\n",
      " 1.05448317e-01 1.64890906e-01 2.04350251e-01 7.52314681e-03\n",
      " 3.43181354e-03 1.56468602e-02 6.27611913e-01 1.00687157e-01\n",
      " 4.19652776e-02 3.25228531e-02 6.67029526e-02 1.39759578e-02\n",
      " 9.16494456e-02 1.87322126e-03 7.11825527e-02 3.60287765e-01\n",
      " 1.73202641e-01 3.56226567e-01 6.21085638e-02 5.43473795e-01\n",
      " 4.73904917e-01 3.54816437e-03 3.58109566e-01 1.37051605e-01\n",
      " 1.38397126e-02 9.66592842e-03 5.95301128e-01 1.31901799e-01\n",
      " 3.20657865e-01 3.63497786e-01 5.47596821e-02 7.80821739e-01\n",
      " 4.64585007e-01 2.22597868e-01 1.30204303e-01 5.05773190e-02\n",
      " 3.56715875e-02 3.04732101e-01 1.29212050e-01 3.01690221e-01\n",
      " 5.02997138e-01 4.20733760e-01 1.81913386e-01 6.60954397e-01\n",
      " 8.81570177e-02 1.78333088e-01 4.35498073e-01 1.28554127e-01\n",
      " 6.27016832e-01 2.04967379e-01 8.62699594e-02 6.34389265e-02\n",
      " 1.44760086e-02 2.05030166e-01 1.03850723e-01 8.12430638e-01\n",
      " 3.16029795e-01 4.62546278e-01 6.50221281e-01 3.33805279e-03\n",
      " 1.05970806e-02 2.17916123e-02 9.53623285e-03 5.62453957e-02\n",
      " 3.06575947e-01 4.73303110e-01 1.79601539e-02 2.23055927e-02\n",
      " 4.09337448e-02 2.28794177e-01 2.69413260e-01 4.08147751e-01\n",
      " 8.70744367e-01 1.29384005e-01 1.78121932e-01 2.41777670e-01\n",
      " 1.87507081e-01 2.38296909e-01 2.70562068e-01 1.43552024e-01\n",
      " 1.14432362e-01 3.83931628e-04 3.40858237e-02 5.88088503e-01\n",
      " 3.68267918e-01 5.04791418e-02 1.67062720e-02 5.99921853e-01\n",
      " 3.23082113e-01 9.50351510e-02 1.03729668e-02 1.32279738e-02\n",
      " 8.83255517e-02 1.28116564e-01 3.33014160e-02 7.29789499e-02\n",
      " 9.66005010e-02 3.96373704e-01 4.70965049e-03 5.66061744e-01\n",
      " 1.53582620e-01 2.76627934e-01 2.97913853e-01 2.21396096e-02\n",
      " 2.18101806e-03 7.38024818e-01 7.48702270e-01 5.72536464e-01\n",
      " 5.45430224e-02 2.38699312e-01 4.87519342e-01 1.04095945e-04\n",
      " 3.89455319e-01 3.55781949e-01 1.53927526e-01 1.23050307e-01\n",
      " 1.93309082e-01 9.85776819e-02 1.56615962e-01 1.83898748e-02\n",
      " 1.67872687e-01 4.72115504e-01 2.33051264e-01 4.70895502e-01\n",
      " 7.70986098e-01 1.02167137e-01 3.35037482e-01 8.66775637e-02\n",
      " 2.03035534e-02 3.43330635e-01 8.87403506e-02 1.87924267e-01\n",
      " 3.79684387e-01 3.41270314e-01 2.28476858e-02 9.59149074e-02\n",
      " 3.13644238e-01 1.97402341e-01 2.78209717e-01 1.52887227e-01\n",
      " 1.23597370e-01 3.36617145e-01 9.97575811e-02 2.93995702e-01\n",
      " 1.49644483e-01 2.21321339e-01 1.98497799e-01 1.05719007e-02\n",
      " 1.68085112e-01 1.13260890e-01 3.21624667e-02 1.32663846e-01\n",
      " 3.85890490e-01 1.07731403e-01 8.14696553e-01 2.08105778e-01\n",
      " 3.42069214e-03 3.09225438e-01 2.78456963e-01 6.79438326e-03\n",
      " 3.73511888e-01 2.44493258e-01 1.99218102e-01 8.75377014e-01\n",
      " 1.05596784e-01 5.83465420e-01 1.91296167e-02 2.31406926e-02\n",
      " 2.62791801e-01 8.17386366e-01 3.30710795e-01 5.59916092e-01\n",
      " 6.90741541e-02 2.87618368e-01 1.38122155e-01 5.69330686e-02\n",
      " 1.42324684e-01 6.56277125e-01 3.26086348e-01 6.16648262e-01\n",
      " 7.10327669e-02 5.48743839e-01 1.54810308e-01 4.04539143e-01\n",
      " 6.67816849e-02 1.06605214e-02 3.19202845e-02 2.28103859e-01\n",
      " 6.56309302e-03 1.82954108e-01 7.32743148e-02 2.76854071e-01\n",
      " 3.74438417e-01 1.70346160e-01 9.27260737e-02 4.73583880e-01\n",
      " 9.36784559e-02 2.45418052e-01 8.82022990e-02 1.83291407e-01\n",
      " 2.96164645e-02 3.10812671e-02 3.27386524e-01 1.12351408e-01\n",
      " 3.20749431e-01 2.68783638e-01 1.16760722e-02 4.19178659e-02\n",
      " 4.46303588e-01 2.16197618e-01 6.73061577e-02 5.18800872e-01\n",
      " 2.88382837e-01 8.21719373e-02 1.76841882e-02 9.00102852e-03\n",
      " 1.13853291e-02 1.54939146e-02 4.52769322e-01 7.26336577e-02\n",
      " 1.34218480e-01 7.52508110e-01 9.76857001e-02 1.01423647e-01\n",
      " 6.80639410e-01 2.60286557e-01 4.06632583e-01 2.07585527e-01\n",
      " 5.64676525e-02 4.21918298e-01 2.12171991e-01 2.44794640e-01\n",
      " 1.49501271e-01 9.13601846e-02 7.55220936e-02 2.39855136e-03\n",
      " 4.48797647e-01 5.09361728e-01 8.47114259e-02 1.29722226e-01\n",
      " 7.35412668e-01 2.71276952e-01 1.48921496e-01 3.47156812e-01\n",
      " 1.58298320e-01 1.47210830e-01 2.25887236e-01 4.58062322e-02\n",
      " 6.17423786e-02 1.29832665e-01 6.68507170e-01 2.60169291e-01\n",
      " 4.43304692e-01 5.79656141e-03 7.26866720e-01 5.12386276e-03\n",
      " 8.09807007e-01 2.81847227e-01 4.21328827e-02 1.00917014e-01\n",
      " 3.49652911e-02 6.23479519e-01 1.48646823e-02 1.96991607e-01\n",
      " 1.11354211e-01 2.93871669e-01 1.82956765e-01 4.57603476e-02\n",
      " 2.08337978e-04 2.00945410e-01 3.98258645e-01 1.25667876e-01\n",
      " 1.11612757e-02 3.29410712e-01 2.76923106e-01 3.10306681e-01\n",
      " 4.04962297e-01 2.96238490e-02 2.82158121e-02 3.63222508e-02\n",
      " 1.11447267e-01 3.97714718e-01 3.15193949e-01 1.95207016e-02\n",
      " 2.89244268e-01 2.80283081e-01 1.33818531e-01 6.63616687e-01\n",
      " 3.97296519e-01 3.39442894e-02 2.38424598e-01 1.96220206e-01\n",
      " 7.03594784e-01 1.46919231e-01 7.80018467e-01 3.57293302e-01\n",
      " 1.27890830e-02 3.47320495e-01 2.06159611e-02 2.36954607e-01\n",
      " 1.23290005e-01 1.43096966e-01 3.37563582e-01 6.06963703e-01\n",
      " 1.81214225e-01 7.81379113e-01 9.31612161e-02 1.25750646e-01\n",
      " 1.52179193e-01 3.69457669e-01 1.30858838e-01 2.35178417e-01\n",
      " 2.50534138e-01 8.20551558e-02 2.84800808e-01 3.90958361e-01\n",
      " 1.05199980e-01 1.29218579e-01 1.12377085e-01 1.88402745e-03\n",
      " 5.13993976e-03 6.74613420e-01 1.55579112e-01 5.15326231e-01\n",
      " 3.94354901e-01 1.34386187e-02 4.83496715e-01 3.63227799e-01\n",
      " 6.05457947e-01 6.85718833e-01 4.19445148e-01 7.49024958e-01\n",
      " 3.41643726e-02 1.03027501e-01 6.96166215e-02 4.45537885e-01\n",
      " 2.09719727e-01 1.56441005e-02 3.88550940e-01 7.05236939e-02\n",
      " 1.60118383e-02 3.25178806e-01 4.53258440e-02 3.40566948e-01\n",
      " 1.19958073e-01 5.59054799e-01 3.94919665e-02 2.49217837e-01\n",
      " 2.77666184e-03 1.48478636e-01 3.61921555e-01 2.90963295e-01\n",
      " 8.49056140e-02 5.71632536e-01 2.47653249e-01 2.30177801e-01\n",
      " 5.76538885e-02 4.04474331e-01 8.20665740e-01 3.54713854e-01\n",
      " 7.25102161e-02 1.52594780e-01 3.34337047e-01 2.63530307e-02\n",
      " 5.43711538e-02 4.22607224e-01 9.60020096e-04 8.17739518e-02\n",
      " 7.78227554e-02 4.76035949e-01 1.64927143e-02 3.20343302e-02\n",
      " 8.53206029e-03 7.54152762e-02 1.04294035e-01 5.24830311e-01\n",
      " 4.74180923e-01 2.96202539e-01 1.48439548e-01 4.68479568e-01\n",
      " 4.32839172e-01 1.54403345e-01 1.84830608e-01 2.62810683e-01\n",
      " 1.02093940e-02 2.69232433e-01 4.75519377e-01 5.39073216e-01\n",
      " 4.34517604e-01 3.07536753e-03 8.11479564e-02 5.61225756e-01\n",
      " 3.80154480e-02 7.65671775e-05 3.11200971e-01 5.67044593e-01\n",
      " 3.26485123e-01 1.61370930e-01 2.35371294e-01 1.84931438e-01\n",
      " 3.23681202e-01 3.93796540e-01 2.35856762e-01 9.49549941e-02\n",
      " 3.73605940e-01 8.29094907e-02 1.30612704e-01 2.87936612e-01\n",
      " 4.10662221e-04 4.09792715e-02 2.18396946e-01 9.37173105e-03\n",
      " 1.43671449e-01 5.37455974e-01 1.14345862e-01 4.21018651e-01\n",
      " 1.21025102e-01 5.71277152e-01 6.72541825e-02 3.78542919e-01\n",
      " 2.41788303e-02 6.89381232e-03 1.60891327e-01 1.92588856e-01\n",
      " 3.07531164e-01 1.82456373e-02 1.53851107e-01 1.24626851e-01\n",
      " 5.42266493e-02 2.31188945e-02 7.17011427e-01 3.40066882e-01\n",
      " 6.42065869e-03 2.83058743e-03 5.48968228e-02 4.38216064e-01\n",
      " 2.42197412e-01 2.93343334e-01 3.06367463e-01 1.81934704e-01\n",
      " 7.48715157e-02 3.49484236e-01 2.89825369e-02 1.81338204e-01\n",
      " 4.75323064e-03 3.41529727e-01 3.66264801e-02 1.85498284e-02\n",
      " 3.01137315e-01 9.78366978e-02 3.21049841e-01 1.65500913e-01\n",
      " 7.35541950e-01 8.42793971e-01 5.14624341e-04 6.16988840e-03\n",
      " 2.55793285e-01 5.40646624e-01 2.35543305e-04 1.65937757e-01\n",
      " 5.95190907e-01 4.81879933e-03 2.31455098e-01 1.87857311e-01\n",
      " 2.48533245e-01 5.44769419e-02 1.62422406e-01 4.63984649e-01\n",
      " 2.09845460e-01 6.13895020e-02 8.91805693e-02 6.52839101e-02\n",
      " 6.80158356e-02 7.86805346e-02 1.83134813e-01 3.84266713e-02\n",
      " 5.73690982e-01 1.03223244e-01 4.65061547e-01 2.72911668e-01\n",
      " 6.90944526e-02 7.94225239e-01 5.15880483e-01 5.82294702e-03\n",
      " 3.52051553e-01 8.64901348e-01 5.83064669e-01 8.02515311e-02\n",
      " 2.19144536e-01 4.04515296e-02 3.21372848e-01 2.16418203e-01\n",
      " 4.79057840e-02 4.31981398e-01 3.26153439e-01 5.98205428e-01\n",
      " 4.50807198e-01 5.84328464e-03 1.52391015e-01 1.77931465e-01\n",
      " 1.38734859e-02 5.24984406e-02 4.00195419e-01 1.00041150e-02\n",
      " 5.71075500e-01 1.18926934e-01 2.90608114e-01 3.62833238e-01\n",
      " 2.34859781e-01 1.61837425e-01 3.80116421e-01 2.12920220e-01\n",
      " 1.78221142e-01 3.09316108e-02 5.00494187e-01 9.31239087e-02\n",
      " 1.19003080e-01 1.16991802e-01 4.05488338e-01 2.07577418e-01\n",
      " 1.63826408e-01 6.85093270e-03 7.19863077e-02 1.35776514e-01\n",
      " 3.10121164e-01 2.48121211e-01 5.26589352e-01 6.75012113e-02\n",
      " 5.31204145e-01 2.73469365e-02 3.03732760e-02 1.59322176e-02\n",
      " 3.92873608e-02 2.23901473e-01 1.95938544e-01 6.86857049e-01\n",
      " 3.28878209e-01 2.57164917e-01 2.90935537e-01 1.89746332e-01\n",
      " 9.25279075e-01 8.91343340e-02 8.68038058e-02 2.23787649e-01\n",
      " 3.29342964e-02 4.19593520e-01 1.68449022e-01 8.65251508e-01\n",
      " 4.38959481e-01 1.62572378e-01 2.13254850e-04 1.91120749e-01\n",
      " 4.91586211e-03 8.93019452e-01 4.74528845e-02 3.16452704e-02\n",
      " 1.22727043e-01 1.38312184e-02 1.12522732e-01 2.10325041e-01\n",
      " 1.44876047e-01 6.56233249e-01 4.05853344e-01 4.45501640e-01\n",
      " 2.80907795e-01 4.05730549e-01 4.74650760e-01 8.88447814e-02\n",
      " 2.34452289e-01 4.47773870e-01 3.99690375e-02 1.76351505e-01\n",
      " 9.76347456e-02 1.98482212e-01 3.58255147e-01 8.60291648e-02\n",
      " 1.76076420e-01 4.07196196e-02 4.04264093e-01 4.58055553e-01\n",
      " 3.12902755e-01 2.18500029e-02 5.33281014e-01 2.63249461e-01\n",
      " 1.48187685e-01 2.28992820e-01 6.17774899e-04 2.39287775e-01\n",
      " 4.25069616e-01 2.37436132e-01 3.18540951e-02 3.68288008e-01\n",
      " 1.34207375e-01 6.34548166e-02 8.99637847e-03 2.02763743e-02\n",
      " 1.57509819e-01 1.70164332e-01 1.31024257e-01 2.60188687e-01\n",
      " 3.49504639e-01 2.05142078e-01 3.38060733e-01 1.79083078e-01\n",
      " 2.82738202e-01 8.26686987e-02 6.01771084e-01 2.10253337e-02\n",
      " 2.40261192e-01 7.14204338e-02 4.91795192e-01 4.20524885e-01\n",
      " 9.63853174e-03 9.61342566e-02 2.89797893e-01 5.40481611e-01\n",
      " 1.79302111e-01 1.48788970e-01 4.22435408e-02 1.58009924e-01\n",
      " 2.39183360e-02 3.14750051e-01 4.51082090e-01 4.15726824e-01\n",
      " 6.00955960e-01 1.17224899e-02 6.15802312e-02 2.29788340e-01\n",
      " 4.27961476e-01 6.54179681e-01 6.03599050e-03 4.65146203e-01\n",
      " 3.94497510e-01 4.00252423e-01 3.75618310e-01 7.58137221e-02\n",
      " 5.58021553e-01 1.83187214e-01 2.87678884e-02 6.38692889e-01\n",
      " 1.70669167e-01 3.57603070e-02 1.90080980e-02 1.80793739e-02\n",
      " 2.41137545e-01 5.16055214e-01 1.17307658e-01 5.83987887e-03\n",
      " 2.72049113e-02 2.20300682e-01 4.35038254e-02 4.38212739e-02\n",
      " 3.16656721e-02 1.54352236e-01 3.86718883e-03 5.91757831e-01\n",
      " 1.66779550e-01 1.10850315e-01 4.03974804e-01 1.96530646e-01\n",
      " 6.62270798e-02 8.63137305e-02 2.04707215e-01 2.99678373e-01\n",
      " 8.51848004e-02 5.80402565e-01 6.67351738e-01 6.07879074e-01\n",
      " 1.78810925e-01 3.08260683e-01 5.43747191e-01 9.63599746e-02\n",
      " 3.15307700e-01 2.26568916e-01 1.94882318e-01 1.44537037e-01\n",
      " 2.33146296e-01 8.34419537e-02 4.61561855e-01 2.65000201e-01\n",
      " 7.77134792e-02 1.64491046e-02 1.60504746e-01 5.61474922e-01\n",
      " 1.38881519e-01 4.16215338e-02 7.10938642e-01 2.08781630e-01\n",
      " 3.09511125e-01 1.24763203e-01 5.35942390e-01 6.48400256e-02\n",
      " 1.39112303e-02 3.80067569e-02 6.36308943e-01 1.91698868e-02\n",
      " 9.46014379e-02 2.66773670e-01 7.67907337e-01 1.63774096e-01\n",
      " 7.76743860e-02 4.47733774e-01 3.92829768e-02 6.16493827e-01\n",
      " 1.56887541e-01 5.13037378e-01 1.59267365e-01 4.40560057e-01\n",
      " 4.96378578e-01 2.22256695e-01 4.83224824e-01 3.25792968e-01\n",
      " 5.26947518e-03 6.88056680e-01 7.17086927e-01 1.64982285e-01\n",
      " 2.66700846e-01 1.19078289e-01 3.71880362e-01 7.30865537e-01\n",
      " 2.02152535e-01 1.35714887e-01 1.30478492e-01 1.77030478e-01\n",
      " 5.21477969e-01 5.41894780e-02 1.17133110e-01 1.75501182e-01\n",
      " 6.37275890e-01 8.31206385e-01 3.36826255e-01 4.11310384e-01\n",
      " 3.80757238e-01 5.39556740e-01 2.22821718e-01 1.05801872e-02\n",
      " 7.16584536e-01 2.17525990e-01 1.63814263e-01 5.78268103e-02\n",
      " 6.27837748e-03 1.70298947e-01 4.51199150e-01 7.86716653e-02\n",
      " 1.35774629e-01 5.22809811e-01 1.54696886e-01 2.59350119e-01\n",
      " 4.35160648e-02 1.45086376e-01 4.44479395e-02 1.24266134e-03\n",
      " 1.23527861e-01 3.73506622e-01 3.41169628e-01 8.12895898e-02\n",
      " 1.35691553e-02 1.97134879e-01 1.25274391e-01 5.88896653e-01\n",
      " 5.52884564e-01 2.22935287e-01 7.25343821e-01 4.58663640e-01\n",
      " 4.21983300e-03 2.29195582e-01 2.95491111e-01 2.37572283e-01\n",
      " 2.39247922e-01 1.65387263e-01 2.95426633e-02 6.61582552e-01\n",
      " 3.37830024e-01 4.60461729e-01 3.57032361e-01 1.37335923e-02\n",
      " 3.84463461e-01 4.96526790e-01 3.91588472e-01 3.21235632e-01\n",
      " 3.02869600e-02 9.41384030e-03 6.03315197e-01 4.51757100e-01\n",
      " 1.72486934e-02 2.17327989e-01 2.95154979e-01 1.91972119e-01\n",
      " 2.01443373e-01 5.11441810e-01 2.38458431e-01 2.52671018e-01\n",
      " 4.99190035e-01 7.67402219e-01 3.93947796e-03 4.18127954e-02\n",
      " 1.05947421e-02 4.32578203e-02 3.23742595e-01 3.03805740e-02\n",
      " 6.88305677e-03 1.42556117e-01 1.61241102e-01 1.94380366e-01\n",
      " 7.63705060e-01 1.56018641e-02 2.17526068e-01 4.10012050e-01\n",
      " 6.46301534e-01 2.24317937e-02 4.59647155e-01 8.46781315e-02\n",
      " 6.57913196e-01 4.71612519e-01 2.44270875e-01 2.24341805e-01\n",
      " 9.83907089e-03 8.56825667e-02 5.32119987e-02 3.18500639e-02\n",
      " 2.69775388e-02 1.66451013e-01 2.20883298e-01 5.20297352e-01\n",
      " 4.26509697e-01 1.02029034e-01 1.62497059e-01 4.14228597e-02\n",
      " 6.27556449e-02 3.99076632e-01 6.27352105e-02 2.57067226e-01\n",
      " 5.08434976e-01 2.19822665e-01 2.03486172e-01 4.24257558e-01\n",
      " 9.14964082e-01 3.31352836e-01 9.09487735e-01 4.71189920e-02\n",
      " 2.34137647e-01 3.83888253e-01 2.30153386e-01 1.01361843e-02\n",
      " 8.12429796e-02 1.55567877e-01 7.56763139e-01 3.44487716e-01\n",
      " 1.81093438e-02 9.12486721e-01 6.22877302e-03 1.87104763e-02\n",
      " 1.86134097e-01 2.02449986e-01 1.71085508e-01 2.53120777e-01\n",
      " 3.02911142e-01 2.99433358e-01 7.96887056e-02 2.40836678e-01\n",
      " 4.90041700e-01 3.84116349e-01 1.15466979e-01 3.52307468e-01\n",
      " 3.20425400e-01 3.98713724e-01 1.27970239e-03 7.45282270e-02\n",
      " 2.08564266e-01 5.54507492e-01 6.17416526e-02 2.08967720e-01\n",
      " 7.99000821e-03 2.03328974e-02 6.96279001e-01 9.70206525e-03\n",
      " 1.59476720e-02 1.23548437e-01 4.02399089e-01 2.30109993e-01\n",
      " 1.64375692e-01 2.96139614e-01 3.30772938e-01 2.38759641e-01\n",
      " 6.42206701e-02 3.26928901e-01 1.21566855e-01 5.19126049e-01\n",
      " 1.20704484e-01 3.69675974e-01 3.31046394e-01 4.70564536e-01\n",
      " 1.82527448e-01 4.11123053e-01 5.07936390e-01 3.71647697e-01\n",
      " 2.20808052e-02 3.73385582e-01 1.14357200e-01 2.04011445e-01\n",
      " 1.83455893e-02 4.49276103e-02 1.81218258e-01 3.32713330e-01\n",
      " 1.08015352e-02 6.85503135e-01 1.64808315e-01 3.43503200e-03\n",
      " 5.87104390e-02 3.03104600e-01 1.75170258e-02 4.80509690e-01\n",
      " 2.94738287e-01 1.26660834e-01 2.69774533e-02 1.22543155e-01\n",
      " 4.56600723e-01 1.73825872e-01 4.50566159e-01 6.92716368e-01\n",
      " 4.56535882e-02 8.20048162e-02 3.60586116e-01 1.37631212e-01\n",
      " 5.77049038e-02 2.31540586e-01 5.22421189e-01 1.26903506e-02\n",
      " 1.54995968e-01 1.53154533e-02 8.29460211e-03 7.68394359e-02\n",
      " 4.27650291e-01 3.46987400e-01 3.92394983e-01 5.07526882e-01\n",
      " 4.96816076e-03 1.13171939e-01 1.48959003e-01 2.95727965e-01]\n",
      " ----- Computation time = 0.0ms\n"
     ]
    },
    {
     "ename": "ValueError",
     "evalue": "shapes (3,15) and (1000,) not aligned: 15 (dim 1) != 1000 (dim 0)",
     "output_type": "error",
     "traceback": [
      "\u001b[1;31m---------------------------------------------------------------------------\u001b[0m",
      "\u001b[1;31mValueError\u001b[0m                                Traceback (most recent call last)",
      "Input \u001b[1;32mIn [5]\u001b[0m, in \u001b[0;36m<cell line: 24>\u001b[1;34m()\u001b[0m\n\u001b[0;32m     22\u001b[0m \u001b[38;5;66;03m### VECTORIZED GENERAL DOT PRODUCT ###\u001b[39;00m\n\u001b[0;32m     23\u001b[0m tic \u001b[38;5;241m=\u001b[39m time\u001b[38;5;241m.\u001b[39mprocess_time()\n\u001b[1;32m---> 24\u001b[0m dot \u001b[38;5;241m=\u001b[39m \u001b[43mnp\u001b[49m\u001b[38;5;241;43m.\u001b[39;49m\u001b[43mdot\u001b[49m\u001b[43m(\u001b[49m\u001b[43mW\u001b[49m\u001b[43m,\u001b[49m\u001b[43mx1\u001b[49m\u001b[43m)\u001b[49m\n\u001b[0;32m     25\u001b[0m toc \u001b[38;5;241m=\u001b[39m time\u001b[38;5;241m.\u001b[39mprocess_time()\n\u001b[0;32m     26\u001b[0m \u001b[38;5;28mprint\u001b[39m (\u001b[38;5;124m\"\u001b[39m\u001b[38;5;124mgdot = \u001b[39m\u001b[38;5;124m\"\u001b[39m \u001b[38;5;241m+\u001b[39m \u001b[38;5;28mstr\u001b[39m(dot) \u001b[38;5;241m+\u001b[39m \u001b[38;5;124m\"\u001b[39m\u001b[38;5;130;01m\\n\u001b[39;00m\u001b[38;5;124m ----- Computation time = \u001b[39m\u001b[38;5;124m\"\u001b[39m \u001b[38;5;241m+\u001b[39m \u001b[38;5;28mstr\u001b[39m(\u001b[38;5;241m1000\u001b[39m\u001b[38;5;241m*\u001b[39m(toc \u001b[38;5;241m-\u001b[39m tic)) \u001b[38;5;241m+\u001b[39m \u001b[38;5;124m\"\u001b[39m\u001b[38;5;124mms\u001b[39m\u001b[38;5;124m\"\u001b[39m)\n",
      "File \u001b[1;32m<__array_function__ internals>:5\u001b[0m, in \u001b[0;36mdot\u001b[1;34m(*args, **kwargs)\u001b[0m\n",
      "\u001b[1;31mValueError\u001b[0m: shapes (3,15) and (1000,) not aligned: 15 (dim 1) != 1000 (dim 0)"
     ]
    }
   ],
   "source": [
    "x1 = np.random.random(1000)#[9, 2, 5, 0, 0, 7, 5, 0, 0, 0, 9, 2, 5, 0, 0]\n",
    "x2 = np.random.random(1000)#[9, 2, 2, 9, 0, 9, 2, 5, 0, 0, 9, 2, 5, 0, 0]\n",
    "\n",
    "### VECTORIZED DOT PRODUCT OF VECTORS ###\n",
    "tic = time.process_time()\n",
    "dot = np.dot(x1,x2)\n",
    "toc = time.process_time()\n",
    "print (\"dot = \" + str(dot) + \"\\n ----- Computation time = \" + str(1000*(toc - tic)) + \"ms\")\n",
    "\n",
    "### VECTORIZED OUTER PRODUCT ###\n",
    "tic = time.process_time()\n",
    "outer = np.outer(x1,x2)\n",
    "toc = time.process_time()\n",
    "print (\"outer = \" + str(outer) + \"\\n ----- Computation time = \" + str(1000*(toc - tic)) + \"ms\")\n",
    "\n",
    "### VECTORIZED ELEMENTWISE MULTIPLICATION ###\n",
    "tic = time.process_time()\n",
    "mul = np.multiply(x1,x2)\n",
    "toc = time.process_time()\n",
    "print (\"elementwise multiplication = \" + str(mul) + \"\\n ----- Computation time = \" + str(1000*(toc - tic)) + \"ms\")\n",
    "\n",
    "### VECTORIZED GENERAL DOT PRODUCT ###\n",
    "tic = time.process_time()\n",
    "dot = np.dot(W,x1)\n",
    "toc = time.process_time()\n",
    "print (\"gdot = \" + str(dot) + \"\\n ----- Computation time = \" + str(1000*(toc - tic)) + \"ms\")"
   ]
  },
  {
   "cell_type": "code",
   "execution_count": 8,
   "metadata": {},
   "outputs": [
    {
     "name": "stdout",
     "output_type": "stream",
     "text": [
      "2.71 µs ± 99.3 ns per loop (mean ± std. dev. of 7 runs, 100,000 loops each)\n"
     ]
    }
   ],
   "source": [
    "x1 = np.random.random(1000)#[9, 2, 5, 0, 0, 7, 5, 0, 0, 0, 9, 2, 5, 0, 0]\n",
    "x2 = np.random.random(1000)#[9, 2, 2, 9, 0, 9, 2, 5, 0, 0, 9, 2, 5, 0, 0]\n",
    "\n",
    "%timeit np.dot(x1, x2)"
   ]
  },
  {
   "cell_type": "code",
   "execution_count": 9,
   "metadata": {},
   "outputs": [
    {
     "name": "stdout",
     "output_type": "stream",
     "text": [
      "2.68 µs ± 77.3 ns per loop (mean ± std. dev. of 7 runs, 100,000 loops each)\n"
     ]
    }
   ],
   "source": [
    "### CLASSIC DOT PRODUCT OF VECTORS IMPLEMENTATION ###\n",
    "def compute_dot(x1, x2):\n",
    "    dot = 0\n",
    "    for i in range(len(x1)):\n",
    "        dot+= x1[i]*x2[i]\n",
    "    return dot\n",
    "\n",
    "%timeit np.dot(x1, x2)"
   ]
  },
  {
   "cell_type": "markdown",
   "metadata": {},
   "source": [
    "As you may have noticed, the vectorized implementation is much cleaner and more efficient. For bigger vectors/matrices, the differences in running time become even bigger. \n",
    "\n",
    "**Note** that `np.dot()` performs a matrix-matrix or matrix-vector multiplication. This is different from `np.multiply()` and the `*` operator (which is equivalent to  `.*` in Matlab/Octave), which performs an element-wise multiplication."
   ]
  },
  {
   "cell_type": "markdown",
   "metadata": {},
   "source": [
    "### 2.1 Implement the L1 and L2 loss functions\n",
    "\n",
    "**Exercise**: Implement the numpy vectorized version of the L1 loss. You may find the function abs(x) (absolute value of x) useful.\n",
    "\n",
    "**Reminder**:\n",
    "- The loss is used to evaluate the performance of your model. The bigger your loss is, the more different your predictions ($ \\hat{y} $) are from the true values ($y$). In deep learning, you use optimization algorithms like Gradient Descent to train your model and to minimize the cost.\n",
    "- L1 loss is defined as:\n",
    "$$\\begin{align*} & L_1(\\hat{y}, y) = \\sum_{i=0}^m|y^{(i)} - \\hat{y}^{(i)}| \\end{align*}\\tag{6}$$"
   ]
  },
  {
   "cell_type": "code",
   "execution_count": 13,
   "metadata": {},
   "outputs": [],
   "source": [
    "# GRADED FUNCTION: L1\n",
    "\n",
    "def L1(yhat, y):\n",
    "    \"\"\"\n",
    "    Arguments:\n",
    "    yhat -- vector of size m (predicted labels)\n",
    "    y -- vector of size m (true labels)\n",
    "    \n",
    "    Returns:\n",
    "    loss -- the value of the L1 loss function defined above\n",
    "    \"\"\"\n",
    "    \n",
    "    ### START CODE HERE ### (≈ 1 line of code)\n",
    "    loss = sum(abs(y - yhat))\n",
    "    ### END CODE HERE ###\n",
    "    \n",
    "    return loss"
   ]
  },
  {
   "cell_type": "code",
   "execution_count": 14,
   "metadata": {},
   "outputs": [
    {
     "name": "stdout",
     "output_type": "stream",
     "text": [
      "L1 = 1.1\n"
     ]
    }
   ],
   "source": [
    "yhat = np.array([.9, 0.2, 0.1, .4, .9])\n",
    "y = np.array([1, 0, 0, 1, 1])\n",
    "print(\"L1 = \" + str(L1(yhat,y)))"
   ]
  },
  {
   "cell_type": "markdown",
   "metadata": {},
   "source": [
    "**Expected Output**:\n",
    "\n",
    "<table style=\"width:20%\">\n",
    "\n",
    "     <tr> \n",
    "       <td> **L1** </td> \n",
    "       <td> 1.1 </td> \n",
    "     </tr>\n",
    "</table>\n"
   ]
  },
  {
   "cell_type": "markdown",
   "metadata": {},
   "source": [
    "**Exercise**: Implement the numpy vectorized version of the L2 loss. There are several way of implementing the L2 loss but you may find the function np.dot() useful. As a reminder, if $x = [x_1, x_2, ..., x_n]$, then `np.dot(x,x)` = $\\sum_{j=0}^n x_j^{2}$. \n",
    "\n",
    "- L2 loss is defined as $$\\begin{align*} & L_2(\\hat{y},y) = \\sum_{i=0}^m(y^{(i)} - \\hat{y}^{(i)})^2 \\end{align*}\\tag{7}$$"
   ]
  },
  {
   "cell_type": "code",
   "execution_count": 17,
   "metadata": {},
   "outputs": [],
   "source": [
    "# GRADED FUNCTION: L2\n",
    "\n",
    "def L2(yhat, y):\n",
    "    \"\"\"\n",
    "    Arguments:\n",
    "    yhat -- vector of size m (predicted labels)\n",
    "    y -- vector of size m (true labels)\n",
    "    \n",
    "    Returns:\n",
    "    loss -- the value of the L2 loss function defined above\n",
    "    \"\"\"\n",
    "    \n",
    "    ### START CODE HERE ### (≈ 1 line of code)\n",
    "    loss = sum((y - yhat) ** 2)\n",
    "    ### END CODE HERE ###\n",
    "    \n",
    "    return loss"
   ]
  },
  {
   "cell_type": "code",
   "execution_count": 18,
   "metadata": {},
   "outputs": [
    {
     "name": "stdout",
     "output_type": "stream",
     "text": [
      "L2 = 0.43\n"
     ]
    }
   ],
   "source": [
    "yhat = np.array([.9, 0.2, 0.1, .4, .9])\n",
    "y = np.array([1, 0, 0, 1, 1])\n",
    "print(\"L2 = \" + str(L2(yhat,y)))"
   ]
  },
  {
   "cell_type": "markdown",
   "metadata": {},
   "source": [
    "**Expected Output**: \n",
    "<table style=\"width:20%\">\n",
    "     <tr> \n",
    "       <td> **L2** </td> \n",
    "       <td> 0.43 </td> \n",
    "     </tr>\n",
    "</table>"
   ]
  },
  {
   "cell_type": "markdown",
   "metadata": {},
   "source": [
    "Congratulations on completing this assignment. We hope that this little warm-up exercise helps you in the future assignments, which will be more exciting and interesting!"
   ]
  },
  {
   "cell_type": "markdown",
   "metadata": {},
   "source": [
    "<font color='blue'>\n",
    "**What to remember:**\n",
    "- Vectorization is very important in deep learning. It provides computational efficiency and clarity.\n",
    "- You have reviewed the L1 and L2 loss.\n",
    "- You are familiar with many numpy functions such as np.sum, np.dot, np.multiply, np.maximum, etc..."
   ]
  }
 ],
 "metadata": {
  "coursera": {
   "course_slug": "neural-networks-deep-learning",
   "graded_item_id": "XHpfv",
   "launcher_item_id": "Zh0CU"
  },
  "kernelspec": {
   "display_name": "Python 3 (ipykernel)",
   "language": "python",
   "name": "python3"
  },
  "language_info": {
   "codemirror_mode": {
    "name": "ipython",
    "version": 3
   },
   "file_extension": ".py",
   "mimetype": "text/x-python",
   "name": "python",
   "nbconvert_exporter": "python",
   "pygments_lexer": "ipython3",
   "version": "3.9.12"
  }
 },
 "nbformat": 4,
 "nbformat_minor": 2
}
